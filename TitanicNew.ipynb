{
  "cells": [
    {
      "metadata": {
        "trusted": true,
        "_uuid": "40bfd5364b47ccccd8922ec7bc4ef6436660fe7b"
      },
      "cell_type": "code",
      "source": "import warnings\nwarnings.filterwarnings('ignore')\nwarnings.filterwarnings('ignore', category=DeprecationWarning)",
      "execution_count": null,
      "outputs": []
    },
    {
      "metadata": {
        "trusted": true,
        "_uuid": "248853955e2ae0389106a220654acb82a82fb241"
      },
      "cell_type": "code",
      "source": "# libraries\n\nimport sys\nprint(\"Python version: {}\".format(sys.version))\nimport time\n\nimport pandas as pd\nprint(\"Pandas version: {}\".format(pd.__version__))\nimport numpy as np\nprint(\"Numpy version: {}\".format(np.__version__))\nimport matplotlib\nfrom matplotlib import pyplot as plt\nfrom matplotlib import rcParams\n%matplotlib inline\nprint(\"Matplotlib version: {}\".format(matplotlib.__version__))\nimport seaborn as sns\nprint(\"Seaborn version: {}\".format(sns.__version__))\nimport scipy\nprint(\"Scipy version: {}\".format(scipy.__version__))\nimport sklearn\nprint(\"scikit-learn version: {}\".format(sklearn.__version__))\n\n# Modelling libraries\nfrom sklearn.model_selection import cross_validate, ShuffleSplit\nfrom sklearn.cross_validation import train_test_split , StratifiedKFold\nfrom sklearn.model_selection import GridSearchCV\nfrom sklearn.preprocessing import LabelEncoder\n\n# Modelling Algorithms\nfrom sklearn.tree import DecisionTreeClassifier\nfrom sklearn.feature_selection import SelectFromModel\nfrom sklearn.linear_model import LogisticRegression, LogisticRegressionCV\nfrom sklearn.svm import SVC, LinearSVC\nfrom sklearn.ensemble import RandomForestClassifier\nfrom sklearn.ensemble import AdaBoostClassifier\nfrom sklearn.ensemble import GradientBoostingClassifier\nfrom sklearn.neighbors import KNeighborsClassifier\nfrom sklearn.naive_bayes import GaussianNB, BernoulliNB\nfrom sklearn.linear_model import Perceptron\nfrom sklearn.linear_model import SGDClassifier\n#from xgboost import XGBClassifier\nfrom sklearn.ensemble import VotingClassifier\n\n# print('-'*25)\n# # check inside input directory for the files\n# !ls -lrth input",
      "execution_count": null,
      "outputs": []
    },
    {
      "metadata": {
        "trusted": true,
        "_uuid": "c44f4129caac874a85620ae93776fc0e975f45bc"
      },
      "cell_type": "code",
      "source": "train_df = pd.read_csv(\"../input/train.csv\")\ntest_df = pd.read_csv(\"../input/test.csv\")\n\nprint(\"Train dataframe shape is: \", train_df.shape)\nprint(\"Test dataframe shape is: \", test_df.shape)\n\nfull_df = train_df.append(test_df, ignore_index=True)\nprint(\"Full dataframe shape is: \", full_df.shape)",
      "execution_count": null,
      "outputs": []
    },
    {
      "metadata": {
        "trusted": true,
        "_uuid": "5f397980357ddf9f4f4d687c37a0e2a70792ab5d"
      },
      "cell_type": "code",
      "source": "# imputing missing values\nfull_df['Age'] = full_df.Age.fillna(value = full_df.Age.median())\nfull_df['Fare'] = full_df.Fare.fillna(value = full_df.Fare.median())\n\n# feature engineering\nfull_df['Sex'] = full_df['Sex'].map({'female': 0, 'male': 1})\n\n# mark passengers as Minor if their name has 'Master.' in it Or if their age is < 16\nfull_df['Minor'] = full_df.apply(lambda x: 1 if (x['Name'].split(',')[-1].split()[0] == 'Master.') | (x['Age'] < 16) \\\n                             else 0, axis = 1)\n# family size\nfull_df['FamilySize'] = full_df['Parch'] + full_df['SibSp'] + 1\n\n# extracting surname\nfull_df['Surname'] = full_df.apply(lambda x: x['Name'].split(',')[0], axis = 1)\n\n# extracting ticket class, and purposely ommiting the last digit in the ticket numbers and replacing it with 'X'\n# as family members would be sitting right next to each other varying by a digit in the ticket no.\nfull_df['TicketClass'] = full_df.apply(lambda x: x['Ticket'][:-1]+'X', axis = 1)\n\n# women-child-grouping\n#full_df['WCG_Id'] = full_df.apply(lambda x: x['Surname'] + '-' + str(x['Pclass']) + '-' + str(x['TicketClass']) + '-' + str(x['Fare']) + '-' + str(x['Embarked']), axis = 1)\n\n# surname-grouping\nfull_df['WCG_Id'] = full_df['Surname']\n\nfull_df.head()",
      "execution_count": null,
      "outputs": []
    },
    {
      "metadata": {
        "trusted": true,
        "_uuid": "701a56ad5564b59e7bc5e4b01dad96b23bb6d54b"
      },
      "cell_type": "code",
      "source": "# familyOneSurvived and familyAllDied\n\nframe = full_df[:891].groupby(['WCG_Id','Name'])['Survived'].mean().to_frame()\nframe",
      "execution_count": null,
      "outputs": []
    },
    {
      "metadata": {
        "trusted": true,
        "_uuid": "32341d4ac4f7582267563c735e08f3cf0ada2060"
      },
      "cell_type": "code",
      "source": "#frame.loc['Andersson-3-34708X-31.275-S'] #lets see for Andersson surnamed families",
      "execution_count": null,
      "outputs": []
    },
    {
      "metadata": {
        "trusted": true,
        "_uuid": "1b719136da61a1cbf0c65acdec375cd45cac96bd"
      },
      "cell_type": "code",
      "source": "#frame.loc['Andersson-3-34708X-31.275-S'].sum()",
      "execution_count": null,
      "outputs": []
    },
    {
      "metadata": {
        "trusted": true,
        "_uuid": "84e5c165bb523623faa0bee8ba9d9b2595461bb6"
      },
      "cell_type": "code",
      "source": "#frame.loc['Andersson-3-34708X-31.275-S'].count()",
      "execution_count": null,
      "outputs": []
    },
    {
      "metadata": {
        "trusted": true,
        "_uuid": "0a851620b11a062ff37f74d06d30ba7c7ca9aa0b"
      },
      "cell_type": "code",
      "source": "frame = full_df[:891].groupby(['WCG_Id','Name'])['Survived'].mean().to_frame()\nfull_df['WCG_AllDied'] = 0\nfull_df['WCG_OneLived'] = 0\n\nfor i in range(0,891):\n    group = full_df.loc[i,'WCG_Id']\n    ss = full_df.loc[i,'Survived']\n    s = int(frame.loc[group].sum()) - ss \n    c = int(frame.loc[group].count()) - 1 \n    if c > 0 and s < 1:\n        full_df.loc[i, ['WCG_AllDied']] = 1\n    if c > 0 and s > 0:\n        full_df.loc[i, ['WCG_OneLived']] = 1\nfor i in range(891,1309):\n    group = full_df.loc[i,'WCG_Id']\n    try:\n        s = int(frame.loc[group].sum()) \n        c = int(frame.loc[group].count()) \n    except:\n        c = 0\n    if c > 0 and s < 1:\n        full_df.loc[i, ['WCG_AllDied']] = 1\n    if c > 0 and s > 0:\n        full_df.loc[i, ['WCG_OneLived']] = 1\n\nfull_df.head()",
      "execution_count": null,
      "outputs": []
    },
    {
      "metadata": {
        "trusted": true,
        "_uuid": "36f054623bb1fc443ff688dc39b3223168c4ad54"
      },
      "cell_type": "code",
      "source": "\n#le = LabelEncoder()\n#full_df['WCG'] = le.fit_transform(full_df['WCG_Id'])\n#full_df['Surname_emb'] = le.fit_transform(full_df['Surname'])\n\n# full_df.Age.max() # 80\nfull_df['Age'] = full_df['Age'] / 80\n\n# full_df['FamilySize'].max() # 11\nfull_df['FamilySize'] = full_df['FamilySize'] / 11\n\n# full_df.Pclass.max() # 3\nfull_df['Pclass'] = full_df['Pclass'] / 3\n\n# full_df.Fare.max() # 512.3292\nfull_df['FareAdj'] = full_df['Fare']/512.3292",
      "execution_count": null,
      "outputs": []
    },
    {
      "metadata": {
        "trusted": true,
        "_uuid": "a160e0983907d317761e6505f7fe78576efa473b"
      },
      "cell_type": "code",
      "source": "#X_train = full_df[['Sex','Surname_emb','WCG_OneLived','WCG_AllDied']][:891]\n#X_test = full_df[['Sex','Surname_emb','WCG_OneLived','WCG_AllDied']][891:]\n\nX_train = full_df[['Sex','Minor','FamilySize','Pclass','WCG_OneLived','WCG_AllDied']][:891]\nX_test = full_df[['Sex','Minor','FamilySize','Pclass','WCG_OneLived','WCG_AllDied']][891:]\ny_train = full_df[['Survived']][:891]\n\nprint(\"\\nfull_df: \", full_df.shape,\"\\nX_train: \", X_train.shape, \"\\ny_train: \", y_train.shape,\n#      \"\\nX_valid: \", X_valid.shape, \"\\ny_valid: \", y_valid.shape, \n      \"\\nX_test: \", X_test.shape)",
      "execution_count": null,
      "outputs": []
    },
    {
      "metadata": {
        "trusted": true,
        "_uuid": "efe789d9492c32b8dace036868c818c560086aa6"
      },
      "cell_type": "code",
      "source": "# Validation Accuracy to choose classifier and tune parameters\ntrials = 100\nsum = 0\nfor i in range(trials):\n    X_train2, X_valid2, y_train2, y_valid2 = train_test_split(X_train, y_train, test_size=0.1)\n    #logr = LogisticRegression() # Val_acc = 82.0%\n    logr = DecisionTreeClassifier() # Val_acc = 83.0%\n    #logr = RandomForestClassifier() # Val_acc = 82.5%\n    #logr = GradientBoostingClassifier() # Val_acc = 84.0%\n    #logr = KNeighborsClassifier() # Val_acc = 82.0%\n    logr.fit(X_train2, y_train2)\n    logr_acc = logr.score(X_valid2, y_valid2) * 100\n    sum = sum + logr_acc\nprint(\"Average validation accuracy of\",trials,\"trials = \",sum/trials)",
      "execution_count": null,
      "outputs": []
    },
    {
      "metadata": {
        "trusted": true,
        "_uuid": "52408e8d2d15e8ad7a1c377457f6342bded76ca6"
      },
      "cell_type": "code",
      "source": "logr = GradientBoostingClassifier()\nlogr.fit(X_train, y_train)\ny_pred = logr.predict(X_test)",
      "execution_count": null,
      "outputs": []
    },
    {
      "metadata": {
        "trusted": true,
        "_uuid": "a9f6b095bd3c0d589a75437d8e7155528135d570"
      },
      "cell_type": "code",
      "source": "PassengerId = full_df[891:].PassengerId\nsubmission = pd.DataFrame({'PassengerId': PassengerId, 'Survived': y_pred.astype(int)}, index=None)\nprint(submission.shape)\n# This submission scores 81.8%\nsubmission.to_csv('BoostedTrees.csv', index=False)",
      "execution_count": null,
      "outputs": []
    },
    {
      "metadata": {
        "trusted": true,
        "_uuid": "d4cdcf366c3cd6ca19c1642be20dc51859094621"
      },
      "cell_type": "code",
      "source": "submission.head()",
      "execution_count": null,
      "outputs": []
    }
  ],
  "metadata": {
    "kernelspec": {
      "display_name": "Python 3",
      "language": "python",
      "name": "python3"
    },
    "language_info": {
      "name": "python",
      "version": "3.6.6",
      "mimetype": "text/x-python",
      "codemirror_mode": {
        "name": "ipython",
        "version": 3
      },
      "pygments_lexer": "ipython3",
      "nbconvert_exporter": "python",
      "file_extension": ".py"
    }
  },
  "nbformat": 4,
  "nbformat_minor": 1
}
